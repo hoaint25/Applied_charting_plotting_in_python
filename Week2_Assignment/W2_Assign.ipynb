{
  "nbformat": 4,
  "nbformat_minor": 0,
  "metadata": {
    "colab": {
      "name": "Untitled1.ipynb",
      "provenance": [],
      "include_colab_link": true
    },
    "kernelspec": {
      "name": "python3",
      "display_name": "Python 3"
    },
    "language_info": {
      "name": "python"
    }
  },
  "cells": [
    {
      "cell_type": "markdown",
      "metadata": {
        "id": "view-in-github",
        "colab_type": "text"
      },
      "source": [
        "<a href=\"https://colab.research.google.com/github/hoaint25/Applied_charting_plotting_in_python/blob/main/Week2_Assignment/W2_Assign.ipynb\" target=\"_parent\"><img src=\"https://colab.research.google.com/assets/colab-badge.svg\" alt=\"Open In Colab\"/></a>"
      ]
    },
    {
      "cell_type": "markdown",
      "source": [
        "Assignment 2\n",
        "Before working on this assignment please read these instructions fully. In the submission area, you will notice that you can click the link to Preview the Grading for each step of the assignment. This is the criteria that will be used for peer grading. Please familiarize yourself with the criteria before beginning the assignment.\n",
        "\n",
        "An NOAA dataset has been stored in the file data/C2A2_data/BinnedCsvs_d400/fb441e62df2d58994928907a91895ec62c2c42e6cd075c2700843b89.csv. This is the dataset to use for this assignment. Note: The data for this assignment comes from a subset of The National Centers for Environmental Information (NCEI) Daily Global Historical Climatology Network (GHCN-Daily). The GHCN-Daily is comprised of daily climate records from thousands of land surface stations across the globe.\n",
        "\n",
        "Each row in the assignment datafile corresponds to a single observation.\n",
        "\n",
        "The following variables are provided to you:\n",
        "\n",
        "id : station identification code\n",
        "date : date in YYYY-MM-DD format (e.g. 2012-01-24 = January 24, 2012)\n",
        "element : indicator of element type\n",
        "TMAX : Maximum temperature (tenths of degrees C)\n",
        "TMIN : Minimum temperature (tenths of degrees C)\n",
        "value : data value for element (tenths of degrees C)\n",
        "For this assignment, you must:\n",
        "\n",
        "Read the documentation and familiarize yourself with the dataset, then write some python code which returns a line graph of the record high and record low temperatures by day of the year over the period 2005-2014. The area between the record high and record low temperatures for each day should be shaded.\n",
        "Overlay a scatter of the 2015 data for any points (highs and lows) for which the ten year record (2005-2014) record high or record low was broken in 2015.\n",
        "Watch out for leap days (i.e. February 29th), it is reasonable to remove these points from the dataset for the purpose of this visualization.\n",
        "Make the visual nice! Leverage principles from the first module in this course when developing your solution. Consider issues such as legends, labels, and chart junk.\n",
        "The data you have been given is near Ann Arbor, Michigan, United States, and the stations the data comes from are shown on the map "
      ],
      "metadata": {
        "id": "qv6sTzwheund"
      }
    },
    {
      "cell_type": "code",
      "source": [
        "%matplotlib notebook \n",
        "import matplotlib.pyplot as plt\n",
        "import mplleaflet\n",
        "import pandas as pd\n",
        "import numpy as np \n",
        "\n",
        "work_hash='9bb07a5e09b09da62cd27426972a16f29a246bec415aa14abce9e3a1'\n",
        "cstr_MetaFileName='data/C2A2_data/BinSize_d{}.csv'.format(25)\n",
        "cstrWorkFile='data/C2A2_data/BinnedCsvs_d{}/{}.csv'.format(25, work_hash)\n",
        "\n",
        "def make_dfMeta(hashid):\n",
        "    df = pd.read_csv(cstr_MetaFileName)\n",
        "    return df[df['hash'] == hashid]\n",
        "\n",
        "def leaflet_plot_stations(binsize, hashid):\n",
        "\n",
        "    #dfMeta = pd.read_csv('data/C2A2_data/BinSize_d{}.csv'.format(binsize))\n",
        "    \n",
        "   \n",
        "    #print(df[df['NAME'].str.contains('MOSCOW') & df['STATE'].isnull()])\n",
        "    #hshWork=df[df['NAME'].str.contains('MOSCOW') & df['STATE'].isnull()]\n",
        "    #print('hash=', hshWork['hash'].values[0])\n",
        "    \n",
        "    station_locations_by_hash = make_dfMeta(work_hash)\n",
        "\n",
        "    #print(station_locations_by_hash.head(20))\n",
        "    \n",
        "    lons = station_locations_by_hash['LONGITUDE'].tolist()\n",
        "    lats = station_locations_by_hash['LATITUDE'].tolist()\n",
        "\n",
        "    plt.figure(figsize=(10,10))\n",
        "\n",
        "    plt.scatter(lons, lats, c='r', alpha=0.7, s=100)\n",
        "\n",
        "    return mplleaflet.display()\n",
        "\n",
        "leaflet_plot_stations(25,work_hash)\n"
      ],
      "metadata": {
        "id": "nykcrHL7exDp",
        "outputId": "998cd90a-72ae-4e2d-dc4e-39fe63688d86",
        "colab": {
          "base_uri": "https://localhost:8080/",
          "height": 368
        }
      },
      "execution_count": 1,
      "outputs": [
        {
          "output_type": "error",
          "ename": "ModuleNotFoundError",
          "evalue": "ignored",
          "traceback": [
            "\u001b[0;31m---------------------------------------------------------------------------\u001b[0m",
            "\u001b[0;31mModuleNotFoundError\u001b[0m                       Traceback (most recent call last)",
            "\u001b[0;32m<ipython-input-1-36ff13bcbd2d>\u001b[0m in \u001b[0;36m<module>\u001b[0;34m()\u001b[0m\n\u001b[1;32m      1\u001b[0m \u001b[0mget_ipython\u001b[0m\u001b[0;34m(\u001b[0m\u001b[0;34m)\u001b[0m\u001b[0;34m.\u001b[0m\u001b[0mmagic\u001b[0m\u001b[0;34m(\u001b[0m\u001b[0;34m'matplotlib notebook'\u001b[0m\u001b[0;34m)\u001b[0m\u001b[0;34m\u001b[0m\u001b[0;34m\u001b[0m\u001b[0m\n\u001b[1;32m      2\u001b[0m \u001b[0;32mimport\u001b[0m \u001b[0mmatplotlib\u001b[0m\u001b[0;34m.\u001b[0m\u001b[0mpyplot\u001b[0m \u001b[0;32mas\u001b[0m \u001b[0mplt\u001b[0m\u001b[0;34m\u001b[0m\u001b[0;34m\u001b[0m\u001b[0m\n\u001b[0;32m----> 3\u001b[0;31m \u001b[0;32mimport\u001b[0m \u001b[0mmplleaflet\u001b[0m\u001b[0;34m\u001b[0m\u001b[0;34m\u001b[0m\u001b[0m\n\u001b[0m\u001b[1;32m      4\u001b[0m \u001b[0;32mimport\u001b[0m \u001b[0mpandas\u001b[0m \u001b[0;32mas\u001b[0m \u001b[0mpd\u001b[0m\u001b[0;34m\u001b[0m\u001b[0;34m\u001b[0m\u001b[0m\n\u001b[1;32m      5\u001b[0m \u001b[0;32mimport\u001b[0m \u001b[0mnumpy\u001b[0m \u001b[0;32mas\u001b[0m \u001b[0mnp\u001b[0m\u001b[0;34m\u001b[0m\u001b[0;34m\u001b[0m\u001b[0m\n",
            "\u001b[0;31mModuleNotFoundError\u001b[0m: No module named 'mplleaflet'",
            "",
            "\u001b[0;31m---------------------------------------------------------------------------\u001b[0;32m\nNOTE: If your import is failing due to a missing package, you can\nmanually install dependencies using either !pip or !apt.\n\nTo view examples of installing some common dependencies, click the\n\"Open Examples\" button below.\n\u001b[0;31m---------------------------------------------------------------------------\u001b[0m\n"
          ],
          "errorDetails": {
            "actions": [
              {
                "action": "open_url",
                "actionText": "Open Examples",
                "url": "/notebooks/snippets/importing_libraries.ipynb"
              }
            ]
          }
        }
      ]
    },
    {
      "cell_type": "markdown",
      "source": [
        "##Get the data from the source "
      ],
      "metadata": {
        "id": "NBQMXxace1Db"
      }
    },
    {
      "cell_type": "code",
      "source": [
        "binsize = 400 \n",
        "hashid = 'fb441e62df2d58994928907a91895ec62c2c42e6cd075c2700843b89'\n",
        "df = pd.read_csv('data/C2A2_data/BinnedCsvs_d{}/{}.csv'.format(binsize,hashid))\n",
        "df['Data_Value'] = df['Data_Value'].apply(lambda x: x/10)\n",
        "#print(df['Data_Value'])\n",
        "df['Date'] = pd.to_datetime(df['Date'])\n",
        "df['Year'] = df['Date'].dt.year\n",
        "df['Month'] = df['Date'].dt.month\n",
        "df['Day'] = df['Date'].dt.day\n",
        "#print(df)\n",
        "\n",
        "#remove leap year \n",
        "s_o = df.shape #return the number rows and columns\n",
        "#print(s_o)\n",
        "df = df[~((df['Month'] ==2) & (df['Day'] == 29))]\n",
        "s_r = df.shape\n",
        "print('remove {} series of data'.format(s_o[0]-s_r[0]))\n",
        "\n",
        "#max and min data after grouping by each day \n",
        "max_05_14 = df[(df['Element'] == 'TMAX') & (df['Year'] >=2005) & (df['Year'] < 2015)].groupby(['Month','Day']).aggregate({'Data_Value':np.max})\n",
        "min_05_14 = df[(df['Element'] == 'TMIN') & (df['Year'] >=2005) & (df['Year'] < 2015)].groupby(['Month','Day']).aggregate({'Data_Value':np.min})\n",
        "\n",
        "max_15 = df[(df['Element'] == 'TMAX') & (df['Year'] == 2015)].groupby(['Month','Day']).aggregate({'Data_Value':np.max})\n",
        "min_15 = df[(df['Element'] == 'TMIN') & (df['Year'] == 2015)].groupby(['Month','Day']).aggregate({'Data_Value':np.min})\n",
        "\n",
        "broken_max = np.where(max_15['Data_Value'] > max_05_14['Data_Value'])[0]\n",
        "broken_min = np.where(min_15['Data_Value'] < min_05_14['Data_Value'])[0]\n"
      ],
      "metadata": {
        "id": "Tki_UxiTe53C"
      },
      "execution_count": null,
      "outputs": []
    },
    {
      "cell_type": "markdown",
      "source": [
        "##Plot the graph"
      ],
      "metadata": {
        "id": "EFCrCrD8fKW5"
      }
    },
    {
      "cell_type": "code",
      "source": [
        "import numpy as np\n",
        "plt.figure()\n",
        "plt.plot(max_05_14.values, label = 'Max Temp (2004-2015)',linewidth=1, alpha = 0.7, c='r')\n",
        "plt.plot(min_05_14.values, label = 'Min Temp (2004-2015)',linewidth=1, alpha = 0.7, c='b')\n",
        "plt.gca().fill_between(range(len(max_05_14)), max_05_14['Data_Value'], min_05_14['Data_Value'], facecolor='yellow', alpha=0.25)\n",
        "\n",
        "plt.scatter(broken_max, max_15.iloc[broken_max], s=10, c='red', label='High Temp Broken (2015)')\n",
        "plt.scatter(broken_min, min_15.iloc[broken_min], s=10, c='blueviolet', label='Low Temp Broken (2015)')\n",
        "#add more in chart\n",
        "plt.legend(loc = 'best', title = 'Temperature', fontsize = 8)\n",
        "\n",
        "# tick label in chart \n",
        "plt.xticks(np.linspace(0,30 + 30*11, num= 12),( r'Jan', r'Feb', r'Mar', r'Apr', r'May', r'Jun', r'Jul', r'Aug', r'Sep', r'Oct', r'Nov', r'Dec'), alpha=0.8)\n",
        "plt.yticks(alpha = 0.8)\n",
        "\n",
        "#xlabel and ylabel\n",
        "plt.xlabel('Months',alpha = 0.8)\n",
        "plt.ylabel('Temperatute',alpha = 0.8)\n",
        "plt.title('Temperature Plot', alpha = 0.8)\n",
        "\n",
        "plt.gca().spines['top'].set_visible(False)\n",
        "plt.gca().spines['right'].set_visible(False)\n",
        "plt.gca().spines['bottom'].set_alpha(0.3)\n",
        "plt.gca().spines['left'].set_alpha(0.3)\n"
      ],
      "metadata": {
        "id": "6Z2x6ZkjfBTG"
      },
      "execution_count": null,
      "outputs": []
    }
  ]
}