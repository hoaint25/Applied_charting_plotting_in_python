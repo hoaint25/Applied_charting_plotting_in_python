{
  "nbformat": 4,
  "nbformat_minor": 0,
  "metadata": {
    "colab": {
      "name": "Untitled9.ipynb",
      "provenance": [],
      "collapsed_sections": [],
      "authorship_tag": "ABX9TyPftO/1r/3isNzLvRT/Wq2p",
      "include_colab_link": true
    },
    "kernelspec": {
      "name": "python3",
      "display_name": "Python 3"
    },
    "language_info": {
      "name": "python"
    }
  },
  "cells": [
    {
      "cell_type": "markdown",
      "metadata": {
        "id": "view-in-github",
        "colab_type": "text"
      },
      "source": [
        "<a href=\"https://colab.research.google.com/github/hoaint25/Applied_charting_plotting_in_python/blob/main/Week4_Assignment/Week4_assign.ipynb\" target=\"_parent\"><img src=\"https://colab.research.google.com/assets/colab-badge.svg\" alt=\"Open In Colab\"/></a>"
      ]
    },
    {
      "cell_type": "code",
      "execution_count": 22,
      "metadata": {
        "id": "V7B0p6C36eFm"
      },
      "outputs": [],
      "source": [
        "from turtle import title\n",
        "import pandas as pd\n",
        "import numpy as np\n",
        "import matplotlib.pyplot as plt \n",
        "import scipy.stats as st \n",
        "import matplotlib.colors as col \n",
        "import seaborn as sns \n",
        "import re "
      ]
    },
    {
      "cell_type": "code",
      "source": [
        "pd.set_option('display.max_columns', None)\n",
        "pd.set_option('display.max_rows', None)\n",
        "\n",
        "plt.style.use('seaborn-colorblind')\n",
        "\n",
        "dict_datasets = {\"Tigers\":\"List of Detroit Tigers seasons - Wikipedia.html\",\n",
        "                  \"Lions\":\"List of Detroit Lions seasons - Wikipedia.html\",\n",
        "                  \"Pistons\":\"List of Detroit Pistons seasons - Wikipedia.html\",\n",
        "                  \"RedWings\":\"List of Detroit Red Wings seasons - Wikipedia.html\",}"
      ],
      "metadata": {
        "id": "ck_uQCqF7ic7"
      },
      "execution_count": 3,
      "outputs": []
    },
    {
      "cell_type": "code",
      "source": [
        ""
      ],
      "metadata": {
        "id": "Bsst1T2S7mSw"
      },
      "execution_count": null,
      "outputs": []
    },
    {
      "cell_type": "code",
      "source": [
        "##Lions \n",
        "\n",
        "df_lions = pd.read_html('/content/List of Detroit Lions seasons - Wikipedia.html')[1][6:92]\n",
        "lions = pd.DataFrame()\n",
        "lions['Year'] = df_lions['Season']\n",
        "lions['Year'] = lions['Year'].str[:4]\n",
        "lions['Wins'] = df_lions['Regular season']['.mw-parser-output .tooltip-dotted{border-bottom:1px dotted;cursor:help}W'].astype(int)\n",
        "lions['Losses'] = df_lions['Regular season']['L'].astype(int)\n",
        "\n",
        "lions['% Wins Lions'] = lions['Wins']/(lions['Wins'] + lions['Losses'])\n",
        "print(lions.head(10))"
      ],
      "metadata": {
        "colab": {
          "base_uri": "https://localhost:8080/"
        },
        "id": "WX47djKO7oaK",
        "outputId": "d886b3b9-a963-412b-c702-06bd2c2cb12a"
      },
      "execution_count": 5,
      "outputs": [
        {
          "output_type": "stream",
          "name": "stdout",
          "text": [
            "    Year  Wins  Losses  % Wins Lions\n",
            "6   1934    10       3      0.769231\n",
            "7   1935     7       3      0.700000\n",
            "8   1936     8       4      0.666667\n",
            "9   1937     7       4      0.636364\n",
            "10  1938     7       4      0.636364\n",
            "11  1939     6       5      0.545455\n",
            "12  1940     5       5      0.500000\n",
            "13  1941     4       6      0.400000\n",
            "14  1942     0      11      0.000000\n",
            "15  1943     3       6      0.333333\n"
          ]
        }
      ]
    },
    {
      "cell_type": "code",
      "source": [
        "##Tigers \n",
        "\n",
        "df_tigers = pd.read_html('/content/List of Detroit Tigers seasons - Wikipedia.html')[1]\n",
        "\n",
        "tigers = pd.DataFrame()\n",
        "tigers['Year'] = df_tigers['Season']\n",
        "tigers['Wins'] = df_tigers['Wins']\n",
        "tigers['Losses'] = df_tigers['Losses']\n",
        "tigers.drop(tigers.tail(4).index,inplace=True)\n",
        "tigers['Year'] = tigers['Year']\n",
        "tigers['Wins'] = tigers['Wins'].astype(str).astype(int)\n",
        "tigers['Losses'] = tigers['Losses'].astype(str).astype(int)\n",
        "\n",
        "tigers['% Win Tigers'] = tigers['Wins']/(tigers['Wins'] + tigers['Losses'])\n",
        "print(tigers.head(10))"
      ],
      "metadata": {
        "colab": {
          "base_uri": "https://localhost:8080/"
        },
        "id": "lGXTO8ZN79wQ",
        "outputId": "38b683b9-837e-4926-a4b3-1a23b611fb50"
      },
      "execution_count": 6,
      "outputs": [
        {
          "output_type": "stream",
          "name": "stdout",
          "text": [
            "   Year  Wins  Losses  % Win Tigers\n",
            "0  1901    74      61      0.548148\n",
            "1  1902    52      83      0.385185\n",
            "2  1903    65      71      0.477941\n",
            "3  1904    62      90      0.407895\n",
            "4  1905    79      74      0.516340\n",
            "5  1906    71      78      0.476510\n",
            "6  1907    92      58      0.613333\n",
            "7  1908    90      63      0.588235\n",
            "8  1909    98      54      0.644737\n",
            "9  1910    86      68      0.558442\n"
          ]
        }
      ]
    },
    {
      "cell_type": "code",
      "source": [
        "#Pistons\n",
        "df_pistons = pd.read_html('/content/List of Detroit Pistons seasons - Wikipedia.html')[1][11:90]\n",
        "pistons = pd.DataFrame()\n",
        "pistons['Year'] = df_pistons['Team'].str[:4]\n",
        "pistons['Wins'] = df_pistons['Wins']\n",
        "pistons['Losses'] = df_pistons['Losses']\n",
        "pistons.drop(pistons.index[pistons['Wins'] == 'Detroit Pistons'], inplace = True)\n",
        "pistons['Wins'] = pistons['Wins'].astype(int)\n",
        "pistons['Losses'] = pistons['Wins'].astype(int)\n",
        "tigers['% Win Pistons'] = tigers['Wins']/(tigers['Wins'] + tigers['Losses'])\n",
        "print(pistons.head(10))\n"
      ],
      "metadata": {
        "colab": {
          "base_uri": "https://localhost:8080/"
        },
        "id": "zPmbcz2O8MQP",
        "outputId": "9adfdea7-e5d2-4a5b-e2b4-50226edeb8f0"
      },
      "execution_count": 7,
      "outputs": [
        {
          "output_type": "stream",
          "name": "stdout",
          "text": [
            "    Year  Wins  Losses\n",
            "11  1950    32      32\n",
            "12  1951    29      29\n",
            "13  1952    36      36\n",
            "14  1953    40      40\n",
            "15  1954    43      43\n",
            "16  1955    37      37\n",
            "17  1956    34      34\n",
            "19  1957    33      33\n",
            "20  1958    28      28\n",
            "21  1959    30      30\n"
          ]
        }
      ]
    },
    {
      "cell_type": "code",
      "source": [
        "#Red Wings \n",
        "df_redw = pd.read_html('/content/List of Detroit Red Wings seasons - Wikipedia.html')[2][:94]\n",
        "redw = pd.DataFrame()\n",
        "df_redw = df_redw.reset_index(drop=True)\n",
        "redw['Year'] = df_redw['NHL season']\n",
        "redw['Year'] = redw['Year'].str[:4]\n",
        "redw['Wins'] = df_redw['Regular season[3][6][7][8]']['W']\n",
        "redw.drop(redw.index[redw['Wins'] == '—'], inplace = True)\n",
        "redw['Wins'] = redw['Wins'].astype(int)\n",
        "redw['Losses'] = df_redw['Regular season[3][6][7][8]']['L']\n",
        "redw.drop(redw.index[redw['Losses'] == '—'], inplace = True)\n",
        "redw['Losses'] = redw['Losses'].astype(int)\n",
        "redw['% Win Redw'] = redw['Wins']/(redw['Wins'] + redw['Losses'])\n",
        "print(redw.head(10))"
      ],
      "metadata": {
        "colab": {
          "base_uri": "https://localhost:8080/"
        },
        "id": "FYEvuScT8XBY",
        "outputId": "5244c93a-f4d9-4e37-991f-79a044eef695"
      },
      "execution_count": 8,
      "outputs": [
        {
          "output_type": "stream",
          "name": "stdout",
          "text": [
            "   Year  Wins  Losses  % Win Redw\n",
            "0  1926    12      28    0.300000\n",
            "1  1927    19      19    0.500000\n",
            "2  1928    19      16    0.542857\n",
            "3  1929    14      24    0.368421\n",
            "4  1930    16      21    0.432432\n",
            "5  1931    18      20    0.473684\n",
            "6  1932    25      15    0.625000\n",
            "7  1933    24      14    0.631579\n",
            "8  1934    19      22    0.463415\n",
            "9  1935    24      16    0.600000\n"
          ]
        }
      ]
    },
    {
      "cell_type": "code",
      "source": [
        "#Merge for visualize\n",
        "\n",
        "#Step 1: merge Lions and Tigers \n",
        "merge1 = pd.merge(lions.drop(['Wins','Losses'], axis = 1), tigers.drop(['Wins','Losses'], axis = 1), on ='Year')\n",
        "#Step 2: merge Lions, Tigers and Pistons \n",
        "merge2 = pd.merge(merge1, pistons.drop(['Wins','Losses'], axis = 1), on ='Year')\n",
        "#Step3: merge merge with RedWings\n",
        "merge_ = pd.merge(merge2, redw.drop(['Wins','Losses'], axis = 1), on = 'Year')\n",
        "print(merge_.head(10))"
      ],
      "metadata": {
        "colab": {
          "base_uri": "https://localhost:8080/"
        },
        "id": "UqU40orK8hFP",
        "outputId": "24ec977b-f66f-4dfa-9ca0-d2890356b9dd"
      },
      "execution_count": 9,
      "outputs": [
        {
          "output_type": "stream",
          "name": "stdout",
          "text": [
            "   Year  % Wins Lions  % Win Tigers  % Win Pistons  % Win Redw\n",
            "0  1950      0.500000      0.616883       0.616883    0.771930\n",
            "1  1951      0.636364      0.474026       0.474026    0.758621\n",
            "2  1952      0.750000      0.324675       0.324675    0.692308\n",
            "3  1953      0.833333      0.389610       0.389610    0.660714\n",
            "4  1954      0.818182      0.441558       0.441558    0.711864\n",
            "5  1955      0.250000      0.512987       0.512987    0.555556\n",
            "6  1956      0.750000      0.532468       0.532468    0.655172\n",
            "7  1957      0.666667      0.506494       0.506494    0.500000\n",
            "8  1958      0.363636      0.500000       0.500000    0.403226\n",
            "9  1959      0.272727      0.493506       0.493506    0.472727\n"
          ]
        }
      ]
    },
    {
      "cell_type": "code",
      "source": [
        "kde = sns.kdeplot(data = merge_,fill=True, common_norm=False, palette=\"crest\", alpha=.5, linewidth=0)\n",
        "kde.axis = ([0,1,0,7])\n"
      ],
      "metadata": {
        "colab": {
          "base_uri": "https://localhost:8080/",
          "height": 265
        },
        "id": "aByJzaizK5Ar",
        "outputId": "1b6a3311-b1a1-4db0-a242-269f4b69f2b1"
      },
      "execution_count": 10,
      "outputs": [
        {
          "output_type": "display_data",
          "data": {
            "image/png": "[encoded data removed]",
            "text/plain": [
              "<Figure size 432x288 with 1 Axes>"
            ]
          },
          "metadata": {
            "needs_background": "light"
          }
        }
      ]
    },
    {
      "cell_type": "code",
      "source": [
        "#Visualize line plot %Win Big4 in 2019\n",
        "big4 = merge_.iloc[51:]\n",
        "print(big4)"
      ],
      "metadata": {
        "colab": {
          "base_uri": "https://localhost:8080/"
        },
        "id": "SxixMFGCLoRg",
        "outputId": "9de03491-15db-4d65-9301-f03286bb5e49"
      },
      "execution_count": 11,
      "outputs": [
        {
          "output_type": "stream",
          "name": "stdout",
          "text": [
            "    Year  % Wins Lions  % Win Tigers  % Win Pistons  % Win Redw\n",
            "51  2000        0.5625      0.487654       0.487654    0.710145\n",
            "52  2001        0.1250      0.407407       0.407407    0.750000\n",
            "53  2002        0.1875      0.341615       0.341615    0.705882\n",
            "54  2003        0.3125      0.265432       0.265432    0.695652\n",
            "55  2005        0.3125      0.438272       0.438272    0.783784\n",
            "56  2006        0.1875      0.586420       0.586420    0.724638\n",
            "57  2007        0.4375      0.543210       0.543210    0.720000\n",
            "58  2008        0.0000      0.456790       0.456790    0.708333\n",
            "59  2009        0.1250      0.527607       0.527607    0.647059\n",
            "60  2010        0.3750      0.500000       0.500000    0.652778\n",
            "61  2011        0.6250      0.586420       0.586420    0.631579\n",
            "62  2012        0.2500      0.543210       0.543210    0.600000\n",
            "63  2013        0.4375      0.574074       0.574074    0.582090\n",
            "64  2014        0.6875      0.555556       0.555556    0.632353\n",
            "65  2015        0.4375      0.459627       0.459627    0.577465\n",
            "66  2016        0.5625      0.534161       0.534161    0.478261\n",
            "67  2017        0.5625      0.395062       0.395062    0.434783\n",
            "68  2018        0.3750      0.395062       0.395062    0.444444\n",
            "69  2019        0.2000      0.291925       0.291925    0.257576\n"
          ]
        }
      ]
    },
    {
      "cell_type": "code",
      "source": [
        "fig, ((ax1,ax2), (ax3,ax4)) = plt.subplots(2, 2, sharex = True, sharey = True)\n",
        "axs = [ax1,ax2,ax3,ax4]\n",
        "\n",
        "fig.suptitle('Big4 % Win in Michigan\\n(2000-2019', alpha = 0.8)\n",
        "\n",
        "#Properties \n",
        "columns_w = ['% Wins Lions', '% Win Tigers', '% Win Pistons', '% Win Redw']\n",
        "colors = ['g','b','y','r']\n",
        "title = ['NFL: Lions', 'MLB: Tigers', 'NBA: Pistons', 'NHL: Red Wings']\n",
        "axis = [0,20,0,0.8]\n",
        "\n",
        "y = 0.5\n",
        "\n",
        "for i in range(len(axs)):\n",
        "  ax = axs[i]\n",
        "  sns.pointplot(x = big4['Year'], y = big4[columns_w[i]], scale = 0.7, alpha = 0.6, ax = ax)\n",
        "  ax.axhline(y = 0.5, color = 'gray', linewidth = 1, linestyle = '--')\n",
        "  ax.fill_between(range(0,19),0.5, big4[columns_w[i]], where = big4[columns_w[i]] < y , color = 'red', interpolate = True, alpha = 0.3)\n",
        "  ax.fill_between(range(0,19), 0.5, big4[columns_w[i]], where = (big4[columns_w[i]]>y), color = 'red', interpolate = True, alpha = 0.3)\n",
        "\n",
        "  #Beatify the plot \n",
        "\n",
        "  #turn off some plot rectangle spines\n",
        "  [ax.spines[loc].set_visible(False) for loc in ['top', 'right']]\n",
        "  ax.set_ylabel('% Win', alpha = 0.8)\n",
        "  ax.set_xlabel('Year', alpha = 0.8)\n",
        "  ax.set_title(title[i], fontsize = 10, alpha = 0.8)\n",
        "  ax.axis(axis)\n",
        "  ax.set_xticks(np.append(np.arange(0,20,5),19))\n",
        "  ax.set_xticklabels(['2000','2005','2010','2015','2019'])\n",
        "  for label in ax.get_xticklabels() + ax.get_yticklabels():\n",
        "      label.set_fontsize(8)\n",
        "      label.set_bbox(dict(facecolor = 'white', edgecolor = 'white', alpha = 0.8))\n",
        "\n"
      ],
      "metadata": {
        "colab": {
          "base_uri": "https://localhost:8080/",
          "height": 307
        },
        "id": "mNQxhQ85UltK",
        "outputId": "9eb22316-5bc8-4791-c2ec-4dff3ce8aa93"
      },
      "execution_count": 31,
      "outputs": [
        {
          "output_type": "display_data",
          "data": {
            "image/png": "[encoded data removed]",
            "text/plain": [
              "<Figure size 432x288 with 4 Axes>"
            ]
          },
          "metadata": {
            "needs_background": "light"
          }
        }
      ]
    }
  ]
}